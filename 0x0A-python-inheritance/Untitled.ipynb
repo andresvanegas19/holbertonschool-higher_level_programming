{
 "cells": [
  {
   "cell_type": "code",
   "execution_count": 163,
   "metadata": {},
   "outputs": [],
   "source": [
    "class MyList(list):\n",
    "    # ya heredo todas las funciones\n",
    "    # de list entonces ya no es necesario\n",
    "    # que haga append\n",
    "    # __iter__ es una funcion que \n",
    "    # itera sobre nuestra lista\n",
    "    def print_sorted(self):\n",
    "        print(sorted([a for a in super().__iter__()]))\n",
    "\n",
    "\n",
    "    "
   ]
  },
  {
   "cell_type": "code",
   "execution_count": 167,
   "metadata": {},
   "outputs": [],
   "source": [
    "my_list = MyList()\n",
    "my_list.append(1)\n",
    "my_list.append(4)\n",
    "my_list.append(2)\n",
    "my_list.append(3)\n",
    "my_list.append(-1)\n",
    "my_list.append(3)\n"
   ]
  },
  {
   "cell_type": "code",
   "execution_count": 168,
   "metadata": {},
   "outputs": [
    {
     "name": "stdout",
     "output_type": "stream",
     "text": [
      "[1, 4, 2, 3, -1, 3]\n",
      "[-1, 1, 2, 3, 3, 4]\n",
      "[1, 4, 2, 3, -1, 3]\n"
     ]
    }
   ],
   "source": [
    "print(my_list)\n",
    "my_list.print_sorted()\n",
    "print(my_list)"
   ]
  },
  {
   "cell_type": "code",
   "execution_count": 41,
   "metadata": {},
   "outputs": [
    {
     "data": {
      "text/plain": [
       "[1, 4, 2, 3, 5]"
      ]
     },
     "execution_count": 41,
     "metadata": {},
     "output_type": "execute_result"
    }
   ],
   "source": [
    "my_list"
   ]
  },
  {
   "cell_type": "code",
   "execution_count": 169,
   "metadata": {},
   "outputs": [],
   "source": [
    "# dir(list)"
   ]
  },
  {
   "cell_type": "code",
   "execution_count": 197,
   "metadata": {},
   "outputs": [
    {
     "data": {
      "text/plain": [
       "True"
      ]
     },
     "execution_count": 197,
     "metadata": {},
     "output_type": "execute_result"
    }
   ],
   "source": [
    "\n",
    "a = 1\n",
    "\n",
    "isinstance(type(a) , object)\n",
    "\n"
   ]
  },
  {
   "cell_type": "code",
   "execution_count": 251,
   "metadata": {},
   "outputs": [
    {
     "data": {
      "text/plain": [
       "object"
      ]
     },
     "execution_count": 251,
     "metadata": {},
     "output_type": "execute_result"
    }
   ],
   "source": [
    "a = 1\n",
    "object"
   ]
  },
  {
   "cell_type": "markdown",
   "metadata": {},
   "source": [
    "subclass <br/>\n",
    "object - class to be checked <br/>\n",
    "classinfo - class, type, or tuple of classes and types <br/>"
   ]
  },
  {
   "cell_type": "code",
   "execution_count": 282,
   "metadata": {},
   "outputs": [
    {
     "ename": "SyntaxError",
     "evalue": "invalid syntax (<ipython-input-282-00c37ce10c2c>, line 3)",
     "output_type": "error",
     "traceback": [
      "\u001b[0;36m  File \u001b[0;32m\"<ipython-input-282-00c37ce10c2c>\"\u001b[0;36m, line \u001b[0;32m3\u001b[0m\n\u001b[0;31m    issubclass(class, classinfo) #checks whether or not a class is subclass of classinfo.\u001b[0m\n\u001b[0m                   ^\u001b[0m\n\u001b[0;31mSyntaxError\u001b[0m\u001b[0;31m:\u001b[0m invalid syntax\n"
     ]
    }
   ],
   "source": [
    "isinstance(object, classinfo)# determine whether the object is an instance of the class or not.\n",
    "\n",
    "issubclass(class, classinfo) #checks whether or not a class is subclass of classinfo."
   ]
  },
  {
   "cell_type": "code",
   "execution_count": 294,
   "metadata": {},
   "outputs": [
    {
     "data": {
      "text/plain": [
       "True"
      ]
     },
     "execution_count": 294,
     "metadata": {},
     "output_type": "execute_result"
    }
   ],
   "source": [
    "isinstance(True, int)"
   ]
  },
  {
   "cell_type": "code",
   "execution_count": 278,
   "metadata": {},
   "outputs": [
    {
     "name": "stdout",
     "output_type": "stream",
     "text": [
      "<class 'type'>\n",
      "<class 'type'>\n",
      "<class 'type'>\n",
      "---------\n",
      "<class 'int'>\n",
      "<class 'object'>\n",
      "<class 'bool'>\n",
      "\n",
      "\n",
      "True\n",
      "<class 'bool'>\n"
     ]
    }
   ],
   "source": [
    "int\n",
    "bool\n",
    "object\n",
    "print(type(int))\n",
    "print(type(object))\n",
    "print(type(bool))\n",
    "print('---------')\n",
    "print(int)\n",
    "print(object)\n",
    "print(bool)\n",
    "print()\n",
    "print()\n",
    "print(True)\n",
    "print(type(True))"
   ]
  },
  {
   "cell_type": "code",
   "execution_count": 287,
   "metadata": {},
   "outputs": [
    {
     "name": "stdout",
     "output_type": "stream",
     "text": [
      "<class 'bool'>\n",
      "<class 'type'>\n"
     ]
    }
   ],
   "source": [
    "issubclass(type(True), type(object))\n",
    "print(type(True))\n",
    "print(type(object))\n"
   ]
  },
  {
   "cell_type": "code",
   "execution_count": 257,
   "metadata": {},
   "outputs": [
    {
     "data": {
      "text/plain": [
       "False"
      ]
     },
     "execution_count": 257,
     "metadata": {},
     "output_type": "execute_result"
    }
   ],
   "source": [
    "issubclass(True, type(bool))"
   ]
  },
  {
   "cell_type": "code",
   "execution_count": 258,
   "metadata": {},
   "outputs": [
    {
     "data": {
      "text/plain": [
       "True"
      ]
     },
     "execution_count": 258,
     "metadata": {},
     "output_type": "execute_result"
    }
   ],
   "source": [
    "isinstance(type(True), object)"
   ]
  },
  {
   "cell_type": "code",
   "execution_count": 280,
   "metadata": {},
   "outputs": [],
   "source": [
    "def inherits_from(obj, a_class):\n",
    "    \"\"\"function that validated if the object is\n",
    "    a instace of a class in python\"\"\"\n",
    "    return issubclass(type(obj), (type(a_class), a_class))"
   ]
  },
  {
   "cell_type": "code",
   "execution_count": 281,
   "metadata": {},
   "outputs": [
    {
     "name": "stdout",
     "output_type": "stream",
     "text": [
      "True inherited from class int\n",
      "True inherited from class bool\n",
      "True inherited from class object\n"
     ]
    }
   ],
   "source": [
    "a = True\n",
    "if inherits_from(a, int):\n",
    "    print(\"{} inherited from class {}\".format(a, int.__name__))\n",
    "if inherits_from(a, bool):\n",
    "    print(\"{} inherited from class {}\".format(a, bool.__name__))\n",
    "if inherits_from(a, object):\n",
    "    print(\"{} inherited from class {}\".format(a, object.__name__))"
   ]
  },
  {
   "cell_type": "code",
   "execution_count": 223,
   "metadata": {},
   "outputs": [
    {
     "name": "stdout",
     "output_type": "stream",
     "text": [
      "True\n",
      "True\n",
      "False\n"
     ]
    }
   ],
   "source": [
    " \n",
    "class MyClass(object):\n",
    "  pass\n",
    "class MySubClass(MyClass):\n",
    "  pass\n",
    "print(issubclass(MySubClass, object))\n",
    "print(issubclass(MySubClass, MyClass))\n",
    "print(isinstance(MySubClass, MyClass))"
   ]
  },
  {
   "cell_type": "code",
   "execution_count": 297,
   "metadata": {},
   "outputs": [
    {
     "data": {
      "text/plain": [
       "True"
      ]
     },
     "execution_count": 297,
     "metadata": {},
     "output_type": "execute_result"
    }
   ],
   "source": [
    "type(1.1) is not int"
   ]
  },
  {
   "cell_type": "code",
   "execution_count": 298,
   "metadata": {},
   "outputs": [
    {
     "data": {
      "text/plain": [
       "True"
      ]
     },
     "execution_count": 298,
     "metadata": {},
     "output_type": "execute_result"
    }
   ],
   "source": [
    "w = None\n",
    "w is None"
   ]
  },
  {
   "cell_type": "code",
   "execution_count": null,
   "metadata": {},
   "outputs": [],
   "source": []
  }
 ],
 "metadata": {
  "kernelspec": {
   "display_name": "Python 3",
   "language": "python",
   "name": "python3"
  },
  "language_info": {
   "codemirror_mode": {
    "name": "ipython",
    "version": 3
   },
   "file_extension": ".py",
   "mimetype": "text/x-python",
   "name": "python",
   "nbconvert_exporter": "python",
   "pygments_lexer": "ipython3",
   "version": "3.7.6"
  }
 },
 "nbformat": 4,
 "nbformat_minor": 4
}
