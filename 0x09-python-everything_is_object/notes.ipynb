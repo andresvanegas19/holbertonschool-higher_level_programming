{
 "cells": [
  {
   "cell_type": "markdown",
   "metadata": {
    "collapsed": true
   },
   "source": [
    "# explained why  in python whole is an object\n"
   ]
  },
  {
   "cell_type": "markdown",
   "metadata": {},
   "source": [
    "Python represents all its data as objects. <br />\n",
    "Some of these objects like lists and dictionaries are mutable, <br />\n",
    "meaning you can change <br />\n",
    "their content without changing their identity. Other <br />\n",
    "objects like integers, floats, strings and tuples are <br />\n",
    "objects that can not be changed. An easy way to understand <br />\n",
    "that is if you have a look at an objects ID.<br />\n",
    "Below you see a string that is immutable.<br />\n",
    "You can not change its content. It will raise a <br />\n",
    "TypeError if you try to change it. Also, if we assign <br />\n",
    "new content, a new object is created instead of the contents being modified.<br />\n",
    "\n"
   ]
  },
  {
   "cell_type": "code",
   "execution_count": 3,
   "metadata": {},
   "outputs": [
    {
     "name": "stdout",
     "output_type": "stream",
     "text": [
      "True\n",
      "4512664368\n",
      "4512664368\n"
     ]
    },
    {
     "data": {
      "text/plain": [
       "True"
      ]
     },
     "execution_count": 3,
     "metadata": {},
     "output_type": "execute_result"
    }
   ],
   "source": [
    "a = 'Food'\n",
    "b = 'Food'\n",
    "\n",
    "print(id(a))\n",
    "print(id(b))\n",
    "print(a is b)\n",
    "a == b"
   ]
  },
  {
   "cell_type": "code",
   "execution_count": null,
   "metadata": {
    "pycharm": {
     "name": "#%%\n"
    }
   },
   "outputs": [],
   "source": [
    "a = 100\n",
    "b = 100\n",
    "print(id(a))\n",
    "print(id(b))"
   ]
  },
  {
   "cell_type": "code",
   "execution_count": 19,
   "metadata": {},
   "outputs": [
    {
     "name": "stdout",
     "output_type": "stream",
     "text": [
      "4545481488\n",
      "4545481488\n"
     ]
    }
   ],
   "source": [
    "this tell us both a and b refer to the same object. <br />\n",
    "Python optimizes resources by making two names that <br />\n",
    "refer to the same string value refer to the same object. <br />"
   ]
  },
  {
   "cell_type": "markdown",
   "metadata": {},
   "source": [
    "this tell us both a and b refer to the same object. <br />\n",
    "Python optimizes resources by making two names that <br />\n",
    "refer to the same string value refer to the same object. <br />"
   ]
  },
  {
   "cell_type": "code",
   "execution_count": 8,
   "metadata": {},
   "outputs": [
    {
     "name": "stdout",
     "output_type": "stream",
     "text": [
      "False\n"
     ]
    },
    {
     "data": {
      "text/plain": [
       "True"
      ]
     },
     "execution_count": 8,
     "metadata": {},
     "output_type": "execute_result"
    }
   ],
   "source": [
    "a = [1, 2, 3]\n",
    "b = [1, 2, 3]\n",
    "print(a is b)\n",
    "b == a"
   ]
  },
  {
   "cell_type": "markdown",
   "metadata": {},
   "source": [
    "This mean a and b have the same value but do not refer to the same object. <br />\n",
    "### Alising\n",
    "if we assign one variable to another, both variables refer to the same object:<br />\n",
    "Because the same list has two different names, a and b, we say that it is aliased. <br />\n",
    "Changes made with one alias affect the other.\n",
    "\n"
   ]
  },
  {
   "cell_type": "code",
   "execution_count": 13,
   "metadata": {},
   "outputs": [
    {
     "name": "stdout",
     "output_type": "stream",
     "text": [
      "[5, 'OOP', ':)']\n"
     ]
    },
    {
     "data": {
      "text/plain": [
       "[5, 'OOP', ':)']"
      ]
     },
     "execution_count": 13,
     "metadata": {},
     "output_type": "execute_result"
    }
   ],
   "source": [
    "b = ['Python', 'OOP', ':)']\n",
    "a = b\n",
    "# Is like a = 0x1223 b = 0x1223 reference at the same point of memory\n",
    "b[0] = 5\n",
    "print(b)\n",
    "a"
   ]
  },
  {
   "cell_type": "markdown",
   "metadata": {},
   "source": [
    "> Although this behavior can be useful, <br />\n",
    "> it is sometimes unexpected or undesirable. <br />\n",
    "> In general, it is safer to avoid <br />\n",
    "> aliasing when you are working with mutable objects <br />"
   ]
  },
  {
   "cell_type": "code",
   "execution_count": 18,
   "metadata": {},
   "outputs": [
    {
     "name": "stdout",
     "output_type": "stream",
     "text": [
      "[1, 2, 3, 1, 2, 3]\n",
      "[1, 2, 3, 1, 2, 3]\n"
     ]
    },
    {
     "data": {
      "text/plain": [
       "[1, 2, 3, 1, 2, 3]"
      ]
     },
     "execution_count": 18,
     "metadata": {},
     "output_type": "execute_result"
    }
   ],
   "source": [
    "old_list = [1, 2, 3] * 2\n",
    "# to modificate the list, there are a quite method\n",
    "# this is the more faster \n",
    "new_list = old_list.copy()\n",
    "print(new_list)\n",
    "new_list = old_list[:]\n",
    "print(new_list)\n",
    "new_list = list(old_list)\n",
    "new_list"
   ]
  },
  {
   "cell_type": "markdown",
   "metadata": {},
   "source": [
    "MUTABLES VS INMUTABLES"
   ]
  },
  {
   "cell_type": "markdown",
   "metadata": {},
   "source": [
    "Los objetos mutables se usan para representar valores que cambian con el tiempo. "
   ]
  },
  {
   "cell_type": "code",
   "execution_count": 3,
   "metadata": {},
   "outputs": [
    {
     "name": "stdout",
     "output_type": "stream",
     "text": [
      "mi_variable_inmutable (id: 4577504880): algo, algo más\n",
      "var_de_func antes de retornar (id: 4577504880): algo, algo más\n",
      "var_de_func (id: 4577504784): algo, algo más, añadido\n",
      "retorno_de_funcion (id: 4577504784): algo, algo más, añadido\n",
      "mi_variable_inmutable después de función (id: 4577504880): algo, algo más\n"
     ]
    }
   ],
   "source": [
    "mi_variable_inmutable = \"algo, algo más\"\n",
    "print(\"mi_variable_inmutable (id: {}): {}\".format(id(mi_variable_inmutable), mi_variable_inmutable))\n",
    "\n",
    "def mi_funcion(var_de_func):\n",
    "    print(\"var_de_func antes de retornar (id: {}): {}\".format(id(var_de_func), var_de_func))\n",
    "    var_de_func += \", añadido\"\n",
    "    print(\"var_de_func (id: {}): {}\".format(id(var_de_func), var_de_func))\n",
    "    return var_de_func\n",
    "\n",
    "retorno_de_funcion = mi_funcion(mi_variable_inmutable)\n",
    "print(\"retorno_de_funcion (id: {}): {}\".format(id(retorno_de_funcion),retorno_de_funcion))\n",
    "\n",
    "print(\"mi_variable_inmutable después de función (id: {}): {}\".format(id(mi_variable_inmutable), mi_variable_inmutable))"
   ]
  },
  {
   "cell_type": "code",
   "execution_count": 4,
   "metadata": {},
   "outputs": [
    {
     "data": {
      "text/plain": [
       "True"
      ]
     },
     "execution_count": 4,
     "metadata": {},
     "output_type": "execute_result"
    }
   ],
   "source": [
    "4577504880 is 4577504880"
   ]
  },
  {
   "cell_type": "code",
   "execution_count": 5,
   "metadata": {},
   "outputs": [
    {
     "data": {
      "text/plain": [
       "True"
      ]
     },
     "execution_count": 5,
     "metadata": {},
     "output_type": "execute_result"
    }
   ],
   "source": [
    "4577504880 == 4577504880"
   ]
  },
  {
   "cell_type": "code",
   "execution_count": 9,
   "metadata": {},
   "outputs": [
    {
     "name": "stdout",
     "output_type": "stream",
     "text": [
      "4538034592\n",
      "4538034016\n",
      "4576494768\n",
      "(42, 24, ('Python', 'pandas', 'scikit-learn'))\n",
      "4538034848\n",
      "4538034048\n",
      "4576494768\n",
      "(42, 24, ('Python', 'pandas', 'scikit-learn'))\n"
     ]
    }
   ],
   "source": [
    "unique_identifier = 42\n",
    "age = 24\n",
    "skills = (\"Python\", \"pandas\", \"scikit-learn\")\n",
    "info = (unique_identifier, age, skills)\n",
    "print(id(unique_identifier))\n",
    "print(id(age))\n",
    "print(id(info))\n",
    "print(info)\n",
    "\n",
    "unique_identifier = 50\n",
    "age += 1\n",
    "skills = skills + (\"machine learning\", \"deep learning\")\n",
    "print(id(unique_identifier))\n",
    "print(id(age))\n",
    "print(id(info))\n",
    "print(info)"
   ]
  },
  {
   "cell_type": "code",
   "execution_count": 1,
   "metadata": {},
   "outputs": [
    {
     "name": "stdout",
     "output_type": "stream",
     "text": [
      "id the a = 4314694784\n",
      "id the b = 4314694784\n",
      "id the c = 4314694784\n"
     ]
    }
   ],
   "source": [
    "a = 1\n",
    "b = 1\n",
    "c = 1\n",
    "print('id the a = {}\\nid the b = {}\\nid the c = {}'.format(id(a), id(b), id(c)))"
   ]
  },
  {
   "cell_type": "code",
   "execution_count": 2,
   "metadata": {},
   "outputs": [
    {
     "name": "stdout",
     "output_type": "stream",
     "text": [
      "id the a = 4314694784\n",
      "id the b = 4314694784\n",
      "id the c = 4314694784\n"
     ]
    }
   ],
   "source": [
    "a = b = c = 1 \n",
    "print('id the a = {}\\nid the b = {}\\nid the c = {}'.format(id(a), id(b), id(c)))"
   ]
  },
  {
   "cell_type": "code",
   "execution_count": 19,
   "metadata": {},
   "outputs": [
    {
     "name": "stdout",
     "output_type": "stream",
     "text": [
      "12\n",
      "None\n"
     ]
    }
   ],
   "source": [
    "def f(counter=89):\n",
    "    print(counter)\n",
    "print(f(12))"
   ]
  },
  {
   "cell_type": "code",
   "execution_count": 7,
   "metadata": {},
   "outputs": [
    {
     "name": "stdout",
     "output_type": "stream",
     "text": [
      "2\n",
      "4\n",
      "6\n",
      "8\n"
     ]
    }
   ],
   "source": [
    "for i in range(2, 10, 2):\n",
    "    print(i)"
   ]
  },
  {
   "cell_type": "code",
   "execution_count": 11,
   "metadata": {},
   "outputs": [
    {
     "data": {
      "text/plain": [
       "[10, 8, 6, 4, 2]"
      ]
     },
     "execution_count": 11,
     "metadata": {},
     "output_type": "execute_result"
    }
   ],
   "source": [
    "a = list(range(10, 0, -2))\n",
    "a"
   ]
  },
  {
   "cell_type": "code",
   "execution_count": 12,
   "metadata": {},
   "outputs": [],
   "source": [
    "a = {'friends': [{'id':82, 'name': 'bob'}]}"
   ]
  },
  {
   "cell_type": "code",
   "execution_count": 18,
   "metadata": {},
   "outputs": [
    {
     "data": {
      "text/plain": [
       "'bob'"
      ]
     },
     "execution_count": 18,
     "metadata": {},
     "output_type": "execute_result"
    }
   ],
   "source": [
    "a.get('friends')[-1].get('name')"
   ]
  },
  {
   "cell_type": "markdown",
   "metadata": {},
   "source": [
    "Reference: <br />\n",
    "http://www.openbookproject.net/thinkcs/python/english2e/ch09.html#objects-and-values"
   ]
  }
 ],
 "metadata": {
  "kernelspec": {
   "display_name": "Python 3",
   "language": "python",
   "name": "python3"
  },
  "language_info": {
   "codemirror_mode": {
    "name": "ipython",
    "version": 3
   },
   "file_extension": ".py",
   "mimetype": "text/x-python",
   "name": "python",
   "nbconvert_exporter": "python",
   "pygments_lexer": "ipython3",
   "version": "3.7.6"
  }
 },
 "nbformat": 4,
 "nbformat_minor": 1
}